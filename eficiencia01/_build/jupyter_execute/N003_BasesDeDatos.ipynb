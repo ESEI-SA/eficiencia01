{
 "cells": [
  {
   "cell_type": "markdown",
   "id": "6267ae4c-131f-41ba-a9c6-df8b675f15e7",
   "metadata": {},
   "source": [
    "# 3. Bases de datos\n",
    "En este capítulo se procesará toda la información relacionada con las Bases de Datos que servirán de soporte para la ejecución de proyectos de gestión energética."
   ]
  },
  {
   "cell_type": "markdown",
   "id": "03b26b4f-b0d7-4138-aeb8-f307fe896e68",
   "metadata": {},
   "source": [
    "## 3.1. Datos de producción de la ANH\n",
    "Aquí se consolida la información de producción mensual de petróleo y gas de los campos de Colombia. "
   ]
  },
  {
   "cell_type": "code",
   "execution_count": 1,
   "id": "0ef4a941-72c0-43cd-ab03-338e147acf17",
   "metadata": {},
   "outputs": [],
   "source": [
    "# Carga los paquetes.\n",
    "import pandas as pd"
   ]
  },
  {
   "cell_type": "code",
   "execution_count": 2,
   "id": "f2f3e466-bec2-4876-86ff-dc1575f6a5ba",
   "metadata": {},
   "outputs": [
    {
     "name": "stdout",
     "output_type": "stream",
     "text": [
      "   ANIO MES   ANIO_MES DEPARTAMENTO MUNICIPIO                        OPERADOR  \\\n",
      "0  2015   1 2015-01-01       TOLIMA      None   KAPPA RESOURCES COLOMBIA LTD.   \n",
      "1  2015   1 2015-01-01       BOYACA      None  MANSAROVAR ENERGY COLOMBIA LTD   \n",
      "\n",
      "     CAMPO         CONTRATO  CUENCA  PRODUCCIÓN FISCALIZADA  GAS LIFT  \\\n",
      "0  ABANICO          ABANICO     NaN                   9.365       0.0   \n",
      "1   ABARCO  NARE ASOCIACION     NaN                   6.474       0.0   \n",
      "\n",
      "   GAS REINYECTADO  GAS QUEMADO  CONSUMO EN CAMPO  ENVIADO A PLANTA  \\\n",
      "0              0.0        6.612             2.753               0.0   \n",
      "1              0.0        6.474             0.000               0.0   \n",
      "\n",
      "   GAS TRANSFORMADO  ENTREGADO A GASEODUCTO  \n",
      "0               0.0                     0.0  \n",
      "1               0.0                     0.0  \n",
      "   anio Departamento      Municipio                        Operadora    Campo  \\\n",
      "0  2013       TOLIMA        ESPINAL           PACIFIC STRATUS ENERGY  ABANICO   \n",
      "1  2013       BOYACÁ  PUERTO BOYACA  MANSAROVAR ENERGY COLOMBIA LTD.   ABARCO   \n",
      "2  2013     CASANARE         OROCUE                     C&C ENERGÍA    ABEDUS   \n",
      "\n",
      "     Contrato        enero      febrero        marzo        abril  \\\n",
      "0     ABANICO  1220.709677  1258.892857  1248.903226  1220.833333   \n",
      "1        NARE  5027.193548  5051.250000  5700.419355  5654.400000   \n",
      "2  CRAVOVIEJO     0.000000     0.000000     0.000000    33.666667   \n",
      "\n",
      "          mayo        junio        julio       agosto   septiembre  \\\n",
      "0  1194.677419  1112.800000  1014.354839   995.258065  1014.600000   \n",
      "1  5240.032258  5066.300000  5580.645161  5647.935484  5562.066667   \n",
      "2     3.903226     0.233333     5.064516    19.000000     0.000000   \n",
      "\n",
      "       octubre    noviembre    diciembre  \n",
      "0  1142.322581  1148.100000  1160.096774  \n",
      "1  5959.612903  6533.966667  6279.419355  \n",
      "2     0.000000     0.000000     0.000000  \n"
     ]
    }
   ],
   "source": [
    "# Archivos de ANH de producción de crudo y gas por día promedio mensual.\n",
    "# Falta actualizar con 2023 y 2024.\n",
    "gas_2015_2023 = pd.read_parquet(\"parquet/gas_2015_2023.parquet.gzip\")\n",
    "print(gas_2015_2023.head(2))\n",
    "# \n",
    "archivoCrudo = pd.read_parquet(\"parquet/archivoCrudo.parquet.gzip\")\n",
    "print(archivoCrudo.head(3))"
   ]
  },
  {
   "cell_type": "markdown",
   "id": "6230fe11-74db-400c-aca5-0154efde70ce",
   "metadata": {},
   "source": [
    "## 3.2. Datos de los pozos por Sgc"
   ]
  },
  {
   "cell_type": "code",
   "execution_count": 3,
   "id": "91423cd1-66b5-49da-98a0-31b3173a53e3",
   "metadata": {},
   "outputs": [
    {
     "name": "stdout",
     "output_type": "stream",
     "text": [
      "                  X                Y FID        UWI    WELL_NAME WELL_COUNT  \\\n",
      "0  -829497179478978  680570235120374   1   PALA0289  PALAGUA-289   COLOMBIA   \n",
      "1  -833779145418999  468532667055198   2  ABAN0003H   ABANICO-3H   COLOMBIA   \n",
      "\n",
      "  DEPARTAMEN     WELL_COU_1 FIELD_ABRE                    GEOLOGIC_P CONTRATO  \\\n",
      "0     BOYACA  PUERTO BOYACA    PALAGUA     VALLE MEDIO DEL MAGDALENA  PALAGUA   \n",
      "1     TOLIMA        ESPINAL    ABANICO  VALLE SUPERIOR DEL MAGDALENA  ABANICO   \n",
      "\n",
      "    WELL_LONGI WELL_LATIT WELL_CLA_1  WELL_STA_1     WELLTYPE  \\\n",
      "0  -7451499945    6102098         A0   PRODUCTOR  DIRECCIONAL   \n",
      "1  -7489965499  420512028         A1  SIN ESTADO   HORIZONTAL   \n",
      "\n",
      "                              OPERATOR_W  \\\n",
      "0                     UNION TEMPORAL IJP   \n",
      "1  EXPLOTACIONES CMS OIL AND GAS COMPANY   \n",
      "\n",
      "                                         COMPANY_CO  \n",
      "0                                UNION TEMPORAL IJP  \n",
      "1  FRONTERA ENERGY COLOMBIA CORP. SUCURSAL COLOMBIA  \n"
     ]
    }
   ],
   "source": [
    "# Lee los datos de pozos Sgc en archivo Excel.\n",
    "with pd.ExcelFile(\"sgc/pozosSgc1.xlsx\") as reader:\n",
    "    pozosSgc = pd.read_excel(reader, header=0, usecols=\"A:R\")\n",
    "\n",
    "print(pozosSgc.head(2))\n",
    "# ******************************************************************************\n",
    "# Salva.\n",
    "# pozosSgc.to_parquet('parquet/pozosSgc.parquet.gzip', compression='gzip')"
   ]
  },
  {
   "cell_type": "code",
   "execution_count": null,
   "id": "bba38a57-b791-44d1-aa4b-430dbf9e6d06",
   "metadata": {},
   "outputs": [],
   "source": []
  }
 ],
 "metadata": {
  "kernelspec": {
   "display_name": "Python 3 (ipykernel)",
   "language": "python",
   "name": "python3"
  },
  "language_info": {
   "codemirror_mode": {
    "name": "ipython",
    "version": 3
   },
   "file_extension": ".py",
   "mimetype": "text/x-python",
   "name": "python",
   "nbconvert_exporter": "python",
   "pygments_lexer": "ipython3",
   "version": "3.10.14"
  }
 },
 "nbformat": 4,
 "nbformat_minor": 5
}