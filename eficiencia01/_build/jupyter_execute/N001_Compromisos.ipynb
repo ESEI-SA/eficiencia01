{
 "cells": [
  {
   "cell_type": "markdown",
   "id": "e2d2abdd-ddab-4f3c-9314-2f53f5029faf",
   "metadata": {},
   "source": [
    "# 1. Compromisos\n",
    "En este capítulo se incluyen las condiciones y los compromisos que se adquirieron durante la presentación de la propuesta del proyecto de gestión energética."
   ]
  },
  {
   "cell_type": "code",
   "execution_count": null,
   "id": "2f5566ba-793a-4211-8f88-3b69c2fe40d2",
   "metadata": {},
   "outputs": [],
   "source": []
  }
 ],
 "metadata": {
  "kernelspec": {
   "display_name": "Python 3 (ipykernel)",
   "language": "python",
   "name": "python3"
  },
  "language_info": {
   "codemirror_mode": {
    "name": "ipython",
    "version": 3
   },
   "file_extension": ".py",
   "mimetype": "text/x-python",
   "name": "python",
   "nbconvert_exporter": "python",
   "pygments_lexer": "ipython3",
   "version": "3.10.14"
  }
 },
 "nbformat": 4,
 "nbformat_minor": 5
}