





# Carga los paquetes.
import pandas as pd


# Archivos de ANH de producción de crudo y gas por día promedio mensual.
# Falta actualizar con 2023 y 2024.
gas_2015_2023 = pd.read_parquet("parquet/gas_2015_2023.parquet.gzip")
print(gas_2015_2023.head(2))
# 
archivoCrudo = pd.read_parquet("parquet/archivoCrudo.parquet.gzip")
print(archivoCrudo.head(3))





# Lee los datos de pozos Sgc en archivo Excel.
with pd.ExcelFile("sgc/pozosSgc1.xlsx") as reader:
    pozosSgc = pd.read_excel(reader, header=0, usecols="A:R")

print(pozosSgc.head(2))
# ******************************************************************************
# Salva.
# pozosSgc.to_parquet('parquet/pozosSgc.parquet.gzip', compression='gzip')



